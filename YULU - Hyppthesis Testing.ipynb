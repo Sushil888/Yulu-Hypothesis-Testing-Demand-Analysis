{
 "cells": [
  {
   "cell_type": "markdown",
   "id": "90966914",
   "metadata": {},
   "source": [
    "**Yulu** is India’s leading micro-mobility service provider, which offers unique vehicles for the daily\n",
    "commute. Starting off as a mission to eliminate traffic congestion in India, Yulu provides the\n",
    "safest commute solution through a user-friendly mobile app to enable shared, solo and sustainable\n",
    "commuting.\n",
    "\n",
    "**Yulu zones** are located at all the appropriate locations (including metro stations, bus stands, office\n",
    "spaces, residential areas, corporate offices, etc) to make those first and last miles smooth, affordable,\n",
    "and convenient!\n",
    "\n",
    "Yulu has recently suffered considerable dips in its revenues. They have contracted a consulting\n",
    "company to understand the factors on which the demand for these shared electric cycles depends.\n",
    "Specifically, they want to understand the factors affecting the demand for these shared electric\n",
    "cycles in the Indian market."
   ]
  },
  {
   "cell_type": "markdown",
   "id": "6d254259",
   "metadata": {},
   "source": [
    "# Task List\n",
    "* Import the dataset and do usual exploratory data analysis steps like checking the structure & characteristics of the dataset\n",
    "* Try establishing a relation between the dependent and independent variable (Dependent “Count” & Independent: Workingday, Weather, Season etc)\n",
    "* Select an appropriate test to check whether:\n",
    "    * Working Day has effect on number of electric cycles rented\n",
    "    * No. of cycles rented similar or different in different seasons\n",
    "    * No. of cycles rented similar or different in different weather\n",
    "    * Weather is dependent on season (check between 2 predictor variable)\n",
    "* Set up Null Hypothesis (H0)\n",
    "* State the alternate hypothesis (H1)\n",
    "* Check assumptions of the test (Normality, Equal Variance). You can check it using Histogram, Q-Q plot or statistical methods like levene’s test, Shapiro-wilk test (optional)\n",
    "* Please continue doing the analysis even If some assumptions fail (levene’s test or Shapiro-wilk test) but double check using visual analysis and report wherever necessary\n",
    "* Set a significance level (alpha)\n",
    "* Calculate test Statistics.\n",
    "* Decision to accept or reject null hypothesis.\n",
    "* Inference from the analysis"
   ]
  },
  {
   "cell_type": "code",
   "execution_count": 120,
   "id": "bc4d4388",
   "metadata": {},
   "outputs": [],
   "source": [
    "import numpy as np\n",
    "import pandas as pd\n",
    "import seaborn as sns\n",
    "import matplotlib.pyplot as plt\n",
    "from scipy.stats import ttest_1samp, ttest_ind, ttest_rel, f_oneway, chisquare, chi2_contingency\n",
    "from scipy.stats import shapiro # Shapiro-Wilk’s test for Normality\n",
    "from scipy.stats import levene # Levene's test for Equality of Variance\n",
    "from scipy.stats import kruskal"
   ]
  },
  {
   "cell_type": "code",
   "execution_count": 174,
   "id": "ca6a8b44",
   "metadata": {},
   "outputs": [
    {
     "data": {
      "text/html": [
       "<div>\n",
       "<style scoped>\n",
       "    .dataframe tbody tr th:only-of-type {\n",
       "        vertical-align: middle;\n",
       "    }\n",
       "\n",
       "    .dataframe tbody tr th {\n",
       "        vertical-align: top;\n",
       "    }\n",
       "\n",
       "    .dataframe thead th {\n",
       "        text-align: right;\n",
       "    }\n",
       "</style>\n",
       "<table border=\"1\" class=\"dataframe\">\n",
       "  <thead>\n",
       "    <tr style=\"text-align: right;\">\n",
       "      <th></th>\n",
       "      <th>datetime</th>\n",
       "      <th>season</th>\n",
       "      <th>holiday</th>\n",
       "      <th>workingday</th>\n",
       "      <th>weather</th>\n",
       "      <th>temp</th>\n",
       "      <th>atemp</th>\n",
       "      <th>humidity</th>\n",
       "      <th>windspeed</th>\n",
       "      <th>casual</th>\n",
       "      <th>registered</th>\n",
       "      <th>count</th>\n",
       "    </tr>\n",
       "  </thead>\n",
       "  <tbody>\n",
       "    <tr>\n",
       "      <th>0</th>\n",
       "      <td>2011-01-01 00:00:00</td>\n",
       "      <td>1</td>\n",
       "      <td>0</td>\n",
       "      <td>0</td>\n",
       "      <td>1</td>\n",
       "      <td>9.84</td>\n",
       "      <td>14.395</td>\n",
       "      <td>81</td>\n",
       "      <td>0.0000</td>\n",
       "      <td>3</td>\n",
       "      <td>13</td>\n",
       "      <td>16</td>\n",
       "    </tr>\n",
       "    <tr>\n",
       "      <th>1</th>\n",
       "      <td>2011-01-01 01:00:00</td>\n",
       "      <td>1</td>\n",
       "      <td>0</td>\n",
       "      <td>0</td>\n",
       "      <td>1</td>\n",
       "      <td>9.02</td>\n",
       "      <td>13.635</td>\n",
       "      <td>80</td>\n",
       "      <td>0.0000</td>\n",
       "      <td>8</td>\n",
       "      <td>32</td>\n",
       "      <td>40</td>\n",
       "    </tr>\n",
       "    <tr>\n",
       "      <th>2</th>\n",
       "      <td>2011-01-01 02:00:00</td>\n",
       "      <td>1</td>\n",
       "      <td>0</td>\n",
       "      <td>0</td>\n",
       "      <td>1</td>\n",
       "      <td>9.02</td>\n",
       "      <td>13.635</td>\n",
       "      <td>80</td>\n",
       "      <td>0.0000</td>\n",
       "      <td>5</td>\n",
       "      <td>27</td>\n",
       "      <td>32</td>\n",
       "    </tr>\n",
       "    <tr>\n",
       "      <th>3</th>\n",
       "      <td>2011-01-01 03:00:00</td>\n",
       "      <td>1</td>\n",
       "      <td>0</td>\n",
       "      <td>0</td>\n",
       "      <td>1</td>\n",
       "      <td>9.84</td>\n",
       "      <td>14.395</td>\n",
       "      <td>75</td>\n",
       "      <td>0.0000</td>\n",
       "      <td>3</td>\n",
       "      <td>10</td>\n",
       "      <td>13</td>\n",
       "    </tr>\n",
       "    <tr>\n",
       "      <th>4</th>\n",
       "      <td>2011-01-01 04:00:00</td>\n",
       "      <td>1</td>\n",
       "      <td>0</td>\n",
       "      <td>0</td>\n",
       "      <td>1</td>\n",
       "      <td>9.84</td>\n",
       "      <td>14.395</td>\n",
       "      <td>75</td>\n",
       "      <td>0.0000</td>\n",
       "      <td>0</td>\n",
       "      <td>1</td>\n",
       "      <td>1</td>\n",
       "    </tr>\n",
       "    <tr>\n",
       "      <th>...</th>\n",
       "      <td>...</td>\n",
       "      <td>...</td>\n",
       "      <td>...</td>\n",
       "      <td>...</td>\n",
       "      <td>...</td>\n",
       "      <td>...</td>\n",
       "      <td>...</td>\n",
       "      <td>...</td>\n",
       "      <td>...</td>\n",
       "      <td>...</td>\n",
       "      <td>...</td>\n",
       "      <td>...</td>\n",
       "    </tr>\n",
       "    <tr>\n",
       "      <th>10881</th>\n",
       "      <td>2012-12-19 19:00:00</td>\n",
       "      <td>4</td>\n",
       "      <td>0</td>\n",
       "      <td>1</td>\n",
       "      <td>1</td>\n",
       "      <td>15.58</td>\n",
       "      <td>19.695</td>\n",
       "      <td>50</td>\n",
       "      <td>26.0027</td>\n",
       "      <td>7</td>\n",
       "      <td>329</td>\n",
       "      <td>336</td>\n",
       "    </tr>\n",
       "    <tr>\n",
       "      <th>10882</th>\n",
       "      <td>2012-12-19 20:00:00</td>\n",
       "      <td>4</td>\n",
       "      <td>0</td>\n",
       "      <td>1</td>\n",
       "      <td>1</td>\n",
       "      <td>14.76</td>\n",
       "      <td>17.425</td>\n",
       "      <td>57</td>\n",
       "      <td>15.0013</td>\n",
       "      <td>10</td>\n",
       "      <td>231</td>\n",
       "      <td>241</td>\n",
       "    </tr>\n",
       "    <tr>\n",
       "      <th>10883</th>\n",
       "      <td>2012-12-19 21:00:00</td>\n",
       "      <td>4</td>\n",
       "      <td>0</td>\n",
       "      <td>1</td>\n",
       "      <td>1</td>\n",
       "      <td>13.94</td>\n",
       "      <td>15.910</td>\n",
       "      <td>61</td>\n",
       "      <td>15.0013</td>\n",
       "      <td>4</td>\n",
       "      <td>164</td>\n",
       "      <td>168</td>\n",
       "    </tr>\n",
       "    <tr>\n",
       "      <th>10884</th>\n",
       "      <td>2012-12-19 22:00:00</td>\n",
       "      <td>4</td>\n",
       "      <td>0</td>\n",
       "      <td>1</td>\n",
       "      <td>1</td>\n",
       "      <td>13.94</td>\n",
       "      <td>17.425</td>\n",
       "      <td>61</td>\n",
       "      <td>6.0032</td>\n",
       "      <td>12</td>\n",
       "      <td>117</td>\n",
       "      <td>129</td>\n",
       "    </tr>\n",
       "    <tr>\n",
       "      <th>10885</th>\n",
       "      <td>2012-12-19 23:00:00</td>\n",
       "      <td>4</td>\n",
       "      <td>0</td>\n",
       "      <td>1</td>\n",
       "      <td>1</td>\n",
       "      <td>13.12</td>\n",
       "      <td>16.665</td>\n",
       "      <td>66</td>\n",
       "      <td>8.9981</td>\n",
       "      <td>4</td>\n",
       "      <td>84</td>\n",
       "      <td>88</td>\n",
       "    </tr>\n",
       "  </tbody>\n",
       "</table>\n",
       "<p>10886 rows × 12 columns</p>\n",
       "</div>"
      ],
      "text/plain": [
       "                  datetime  season  holiday  workingday  weather   temp  \\\n",
       "0      2011-01-01 00:00:00       1        0           0        1   9.84   \n",
       "1      2011-01-01 01:00:00       1        0           0        1   9.02   \n",
       "2      2011-01-01 02:00:00       1        0           0        1   9.02   \n",
       "3      2011-01-01 03:00:00       1        0           0        1   9.84   \n",
       "4      2011-01-01 04:00:00       1        0           0        1   9.84   \n",
       "...                    ...     ...      ...         ...      ...    ...   \n",
       "10881  2012-12-19 19:00:00       4        0           1        1  15.58   \n",
       "10882  2012-12-19 20:00:00       4        0           1        1  14.76   \n",
       "10883  2012-12-19 21:00:00       4        0           1        1  13.94   \n",
       "10884  2012-12-19 22:00:00       4        0           1        1  13.94   \n",
       "10885  2012-12-19 23:00:00       4        0           1        1  13.12   \n",
       "\n",
       "        atemp  humidity  windspeed  casual  registered  count  \n",
       "0      14.395        81     0.0000       3          13     16  \n",
       "1      13.635        80     0.0000       8          32     40  \n",
       "2      13.635        80     0.0000       5          27     32  \n",
       "3      14.395        75     0.0000       3          10     13  \n",
       "4      14.395        75     0.0000       0           1      1  \n",
       "...       ...       ...        ...     ...         ...    ...  \n",
       "10881  19.695        50    26.0027       7         329    336  \n",
       "10882  17.425        57    15.0013      10         231    241  \n",
       "10883  15.910        61    15.0013       4         164    168  \n",
       "10884  17.425        61     6.0032      12         117    129  \n",
       "10885  16.665        66     8.9981       4          84     88  \n",
       "\n",
       "[10886 rows x 12 columns]"
      ]
     },
     "execution_count": 174,
     "metadata": {},
     "output_type": "execute_result"
    }
   ],
   "source": [
    "df = pd.read_csv(\"C:/DSML Practice DataSet/Yulu_bike.txt\")\n",
    "df"
   ]
  },
  {
   "cell_type": "code",
   "execution_count": 122,
   "id": "27f15371",
   "metadata": {},
   "outputs": [
    {
     "name": "stdout",
     "output_type": "stream",
     "text": [
      "<class 'pandas.core.frame.DataFrame'>\n",
      "RangeIndex: 10886 entries, 0 to 10885\n",
      "Data columns (total 12 columns):\n",
      " #   Column      Non-Null Count  Dtype  \n",
      "---  ------      --------------  -----  \n",
      " 0   datetime    10886 non-null  object \n",
      " 1   season      10886 non-null  int64  \n",
      " 2   holiday     10886 non-null  int64  \n",
      " 3   workingday  10886 non-null  int64  \n",
      " 4   weather     10886 non-null  int64  \n",
      " 5   temp        10886 non-null  float64\n",
      " 6   atemp       10886 non-null  float64\n",
      " 7   humidity    10886 non-null  int64  \n",
      " 8   windspeed   10886 non-null  float64\n",
      " 9   casual      10886 non-null  int64  \n",
      " 10  registered  10886 non-null  int64  \n",
      " 11  count       10886 non-null  int64  \n",
      "dtypes: float64(3), int64(8), object(1)\n",
      "memory usage: 1020.7+ KB\n"
     ]
    }
   ],
   "source": [
    "df.info()"
   ]
  },
  {
   "cell_type": "code",
   "execution_count": 123,
   "id": "9ba1a746",
   "metadata": {},
   "outputs": [
    {
     "data": {
      "text/plain": [
       "datetime      0\n",
       "season        0\n",
       "holiday       0\n",
       "workingday    0\n",
       "weather       0\n",
       "temp          0\n",
       "atemp         0\n",
       "humidity      0\n",
       "windspeed     0\n",
       "casual        0\n",
       "registered    0\n",
       "count         0\n",
       "dtype: int64"
      ]
     },
     "execution_count": 123,
     "metadata": {},
     "output_type": "execute_result"
    }
   ],
   "source": [
    "# Checking for null values -\n",
    "df.isnull().sum()"
   ]
  },
  {
   "cell_type": "code",
   "execution_count": 124,
   "id": "e1b91f32",
   "metadata": {},
   "outputs": [
    {
     "data": {
      "text/plain": [
       "0"
      ]
     },
     "execution_count": 124,
     "metadata": {},
     "output_type": "execute_result"
    }
   ],
   "source": [
    "# Checking for duplicate rows -\n",
    "df.duplicated().sum()"
   ]
  },
  {
   "cell_type": "code",
   "execution_count": 125,
   "id": "f5d8450a",
   "metadata": {},
   "outputs": [
    {
     "data": {
      "text/plain": [
       "1    7192\n",
       "2    2834\n",
       "3     859\n",
       "4       1\n",
       "Name: weather, dtype: int64"
      ]
     },
     "execution_count": 125,
     "metadata": {},
     "output_type": "execute_result"
    }
   ],
   "source": [
    "df['weather'].value_counts()"
   ]
  },
  {
   "cell_type": "code",
   "execution_count": 10,
   "id": "47b53338",
   "metadata": {},
   "outputs": [
    {
     "data": {
      "text/plain": [
       "0    10575\n",
       "1      311\n",
       "Name: holiday, dtype: int64"
      ]
     },
     "execution_count": 10,
     "metadata": {},
     "output_type": "execute_result"
    }
   ],
   "source": [
    "df['holiday'].value_counts()"
   ]
  },
  {
   "cell_type": "code",
   "execution_count": 27,
   "id": "ba1903c2",
   "metadata": {},
   "outputs": [
    {
     "name": "stdout",
     "output_type": "stream",
     "text": [
      "workingday ==\n",
      "Unique Values:  [0 1]\n",
      "Value Count: \n",
      "1    7412\n",
      "0    3474\n",
      "Name: workingday, dtype: int64\n",
      "\n",
      "holiday ==\n",
      "Unique Values:  [0 1]\n",
      "Value Count: \n",
      "0    10575\n",
      "1      311\n",
      "Name: holiday, dtype: int64\n",
      "\n",
      "season ==\n",
      "Unique Values:  [1 2 3 4]\n",
      "Value Count: \n",
      "4    2734\n",
      "2    2733\n",
      "3    2733\n",
      "1    2686\n",
      "Name: season, dtype: int64\n",
      "\n",
      "weather ==\n",
      "Unique Values:  [1 2 3 4]\n",
      "Value Count: \n",
      "1    7192\n",
      "2    2834\n",
      "3     859\n",
      "4       1\n",
      "Name: weather, dtype: int64\n",
      "\n"
     ]
    }
   ],
   "source": [
    "def all_values(data, col_name):\n",
    "    print(\"Unique Values: \", data[col_name].unique())\n",
    "    print(\"Value Count: \")\n",
    "    print(data[col_name].value_counts())\n",
    "\n",
    "list_of_col = ['workingday', 'holiday', 'season', 'weather']\n",
    "for i in list_of_col:\n",
    "    print(i, \"==\")\n",
    "    all_values(df, i)\n",
    "    print()"
   ]
  },
  {
   "cell_type": "code",
   "execution_count": 11,
   "id": "c1042b6f",
   "metadata": {},
   "outputs": [
    {
     "data": {
      "text/plain": [
       "<AxesSubplot:>"
      ]
     },
     "execution_count": 11,
     "metadata": {},
     "output_type": "execute_result"
    },
    {
     "data": {
      "image/png": "[encoded data removed]",
      "text/plain": [
       "<Figure size 1200x800 with 2 Axes>"
      ]
     },
     "metadata": {},
     "output_type": "display_data"
    }
   ],
   "source": [
    "plt.figure(figsize=[12,8])\n",
    "sns.heatmap(df.corr(method='spearman'), annot=True, cmap='Purples')"
   ]
  },
  {
   "cell_type": "markdown",
   "id": "7c1e3cb6",
   "metadata": {},
   "source": [
    "From the correlation analysis, we can draw some meaningful insights:\n",
    "\n",
    "__Feeling Temperature and Apparent Temperature:__ Feeling temperature and apparent temperature are highly correlated, as they usually have a very small difference between them. This suggests that the two variables are closely related and may provide redundant information in some cases.\n",
    "\n",
    "**Count, Causal, and Registered:** The variables count, causal, and registered are all highly correlated with each other. This indicates a strong relationship between them, likely because they collectively contribute to the total bike rentals"
   ]
  },
  {
   "cell_type": "code",
   "execution_count": 26,
   "id": "f5e2a32a",
   "metadata": {},
   "outputs": [
    {
     "data": {
      "image/png": "[encoded data removed]",
      "text/plain": [
       "<Figure size 1500x1000 with 4 Axes>"
      ]
     },
     "metadata": {},
     "output_type": "display_data"
    }
   ],
   "source": [
    "# Outlier Detection using Boxplots -\n",
    "\n",
    "fig, axes = plt.subplots(2, 2, figsize=(15,10))\n",
    "sns.boxplot(data=df, x='season', y= 'count', ax=axes[0,0])\n",
    "sns.boxplot(data=df, x='holiday', y= 'count', ax=axes[0,1])\n",
    "sns.boxplot(data=df, x='workingday', y= 'count', ax=axes[1,0])\n",
    "sns.boxplot(data=df, x='weather', y= 'count', ax=axes[1,1])\n",
    "plt.show()"
   ]
  },
  {
   "cell_type": "code",
   "execution_count": 29,
   "id": "40bdbfdf",
   "metadata": {},
   "outputs": [
    {
     "data": {
      "image/png": "[encoded data removed]",
      "text/plain": [
       "<Figure size 1500x1000 with 4 Axes>"
      ]
     },
     "metadata": {},
     "output_type": "display_data"
    }
   ],
   "source": [
    "# Just trying another way for Boxplots -\n",
    "\n",
    "fig, axes = plt.subplots(2, 2, figsize=(15, 10))\n",
    "axes = axes.flatten()\n",
    "sns.set(style=\"whitegrid\")\n",
    "\n",
    "for i, col in enumerate(list_of_col):\n",
    "    sns.boxplot(data=df, x=col, y='count', ax=axes[i])\n",
    "\n",
    "plt.show()"
   ]
  },
  {
   "cell_type": "code",
   "execution_count": 175,
   "id": "d9738838",
   "metadata": {},
   "outputs": [],
   "source": [
    "# Dropping highly correlated columns -\n",
    "dfn = df.drop(columns=['casual', 'registered', 'atemp'])"
   ]
  },
  {
   "cell_type": "code",
   "execution_count": 48,
   "id": "b5573f74",
   "metadata": {},
   "outputs": [
    {
     "data": {
      "image/png": "[encoded data removed]",
      "text/plain": [
       "<Figure size 1200x400 with 2 Axes>"
      ]
     },
     "metadata": {},
     "output_type": "display_data"
    }
   ],
   "source": [
    "# Checking the distribution of 'count' column\n",
    "plt.figure(figsize=(12,4))\n",
    "\n",
    "# Histogram\n",
    "plt.subplot(1,2,1)\n",
    "sns.histplot(dfn['count'], bins=10, kde=True)\n",
    "\n",
    "# Boxplot\n",
    "plt.subplot(1,2,2)\n",
    "sns.boxplot(x = dfn['count'])\n",
    "plt.show()"
   ]
  },
  {
   "cell_type": "markdown",
   "id": "b4ec944b",
   "metadata": {},
   "source": [
    "We can see that outliers are present in the given columns. We need to figure out a way to deal with them before starting with the tests.\n",
    "We have multiple options available on how to proceed with these outlier values.\n",
    "\n",
    "1. Try to understand if these values make any sense according to the business problem. If yes, then we can keep them as it is.\n",
    "2. In case these outliers are some invalid values which do not make much sense, we can remove them using the IQR.\n",
    "3. Or we can apply a log transformation on the data to reduce the effect of these outliers.\n",
    "\n",
    "\n"
   ]
  },
  {
   "cell_type": "markdown",
   "id": "aea97ff4",
   "metadata": {},
   "source": [
    "### 1)\n",
    "* The outliers in the given data set are the no. of bike rides per session/day. These values could sometimes be higher than expected due to increase in the crowd on certain days/occasions. \n",
    "* These data values are important for capturing variations in the data. Hence, in this case, the ideal approach of dealing with outliers would be to leave them as it is. \n",
    "* But since the tests that we are going to be applied, are based on the assumption that the dataset is normal or near normal, we will drop those outlier values using the IQR method"
   ]
  },
  {
   "cell_type": "markdown",
   "id": "31222eb2",
   "metadata": {},
   "source": [
    "### 2)\n",
    "### Let's try transforming the data into normal distribution with log transformation"
   ]
  },
  {
   "cell_type": "code",
   "execution_count": 50,
   "id": "60fd3798",
   "metadata": {},
   "outputs": [
    {
     "data": {
      "image/png": "[encoded data removed]",
      "text/plain": [
       "<Figure size 1200x400 with 2 Axes>"
      ]
     },
     "metadata": {},
     "output_type": "display_data"
    }
   ],
   "source": [
    "# Checking distribution after applying log transformation -\n",
    "plt.figure(figsize=(12,4))\n",
    "\n",
    "# Histogram\n",
    "plt.subplot(1,2,1)\n",
    "sns.histplot(np.log(dfn['count']), bins=10, kde=True)\n",
    "\n",
    "# Boxplot\n",
    "plt.subplot(1,2,2)\n",
    "sns.boxplot(x = np.log(dfn['count']))\n",
    "plt.show()"
   ]
  },
  {
   "cell_type": "markdown",
   "id": "e6f8eee7",
   "metadata": {},
   "source": [
    "### 3) \n",
    "### Outlier Treatment using IQR"
   ]
  },
  {
   "cell_type": "code",
   "execution_count": 177,
   "id": "d22bd82a",
   "metadata": {},
   "outputs": [
    {
     "name": "stdout",
     "output_type": "stream",
     "text": [
      "No. of rows :  10583\n"
     ]
    }
   ],
   "source": [
    "# Outlier Treatment using IQR (not needed but, we can do it) -\n",
    "\n",
    "q1 = dfn['count'].quantile(0.25)\n",
    "q3 = dfn['count'].quantile(0.75)\n",
    "iqr = q3-q1\n",
    "\n",
    "dfn = dfn[(dfn['count']>(q1-1.5*iqr) ) & (dfn['count']<(q3+1.5*iqr))]\n",
    "\n",
    "print(\"No. of rows : \", dfn.shape[0])"
   ]
  },
  {
   "cell_type": "markdown",
   "id": "c195360b",
   "metadata": {},
   "source": [
    "## Aggregating the total no. of bike rides(count) based on the aforementioned columns ['workingday', 'holiday', 'season', 'weather']"
   ]
  },
  {
   "cell_type": "code",
   "execution_count": 178,
   "id": "718c9d55",
   "metadata": {},
   "outputs": [
    {
     "data": {
      "text/html": [
       "<div>\n",
       "<style scoped>\n",
       "    .dataframe tbody tr th:only-of-type {\n",
       "        vertical-align: middle;\n",
       "    }\n",
       "\n",
       "    .dataframe tbody tr th {\n",
       "        vertical-align: top;\n",
       "    }\n",
       "\n",
       "    .dataframe thead th {\n",
       "        text-align: right;\n",
       "    }\n",
       "</style>\n",
       "<table border=\"1\" class=\"dataframe\">\n",
       "  <thead>\n",
       "    <tr style=\"text-align: right;\">\n",
       "      <th></th>\n",
       "      <th>count</th>\n",
       "      <th>mean</th>\n",
       "      <th>std</th>\n",
       "      <th>min</th>\n",
       "      <th>25%</th>\n",
       "      <th>50%</th>\n",
       "      <th>75%</th>\n",
       "      <th>max</th>\n",
       "    </tr>\n",
       "    <tr>\n",
       "      <th>workingday</th>\n",
       "      <th></th>\n",
       "      <th></th>\n",
       "      <th></th>\n",
       "      <th></th>\n",
       "      <th></th>\n",
       "      <th></th>\n",
       "      <th></th>\n",
       "      <th></th>\n",
       "    </tr>\n",
       "  </thead>\n",
       "  <tbody>\n",
       "    <tr>\n",
       "      <th>0</th>\n",
       "      <td>3422.0</td>\n",
       "      <td>180.965517</td>\n",
       "      <td>163.782166</td>\n",
       "      <td>1.0</td>\n",
       "      <td>43.0</td>\n",
       "      <td>124.0</td>\n",
       "      <td>295.75</td>\n",
       "      <td>645.0</td>\n",
       "    </tr>\n",
       "    <tr>\n",
       "      <th>1</th>\n",
       "      <td>7161.0</td>\n",
       "      <td>173.011591</td>\n",
       "      <td>152.358993</td>\n",
       "      <td>1.0</td>\n",
       "      <td>38.0</td>\n",
       "      <td>143.0</td>\n",
       "      <td>262.00</td>\n",
       "      <td>646.0</td>\n",
       "    </tr>\n",
       "  </tbody>\n",
       "</table>\n",
       "</div>"
      ],
      "text/plain": [
       "             count        mean         std  min   25%    50%     75%    max\n",
       "workingday                                                                 \n",
       "0           3422.0  180.965517  163.782166  1.0  43.0  124.0  295.75  645.0\n",
       "1           7161.0  173.011591  152.358993  1.0  38.0  143.0  262.00  646.0"
      ]
     },
     "execution_count": 178,
     "metadata": {},
     "output_type": "execute_result"
    }
   ],
   "source": [
    "# WORKINGDAY\n",
    "pd.DataFrame(dfn.groupby('workingday')['count'].describe())"
   ]
  },
  {
   "cell_type": "code",
   "execution_count": 63,
   "id": "d40af180",
   "metadata": {},
   "outputs": [
    {
     "data": {
      "text/html": [
       "<div>\n",
       "<style scoped>\n",
       "    .dataframe tbody tr th:only-of-type {\n",
       "        vertical-align: middle;\n",
       "    }\n",
       "\n",
       "    .dataframe tbody tr th {\n",
       "        vertical-align: top;\n",
       "    }\n",
       "\n",
       "    .dataframe thead th {\n",
       "        text-align: right;\n",
       "    }\n",
       "</style>\n",
       "<table border=\"1\" class=\"dataframe\">\n",
       "  <thead>\n",
       "    <tr style=\"text-align: right;\">\n",
       "      <th></th>\n",
       "      <th>count</th>\n",
       "      <th>mean</th>\n",
       "      <th>std</th>\n",
       "      <th>min</th>\n",
       "      <th>25%</th>\n",
       "      <th>50%</th>\n",
       "      <th>75%</th>\n",
       "      <th>max</th>\n",
       "    </tr>\n",
       "    <tr>\n",
       "      <th>holiday</th>\n",
       "      <th></th>\n",
       "      <th></th>\n",
       "      <th></th>\n",
       "      <th></th>\n",
       "      <th></th>\n",
       "      <th></th>\n",
       "      <th></th>\n",
       "      <th></th>\n",
       "    </tr>\n",
       "  </thead>\n",
       "  <tbody>\n",
       "    <tr>\n",
       "      <th>0</th>\n",
       "      <td>10274.0</td>\n",
       "      <td>175.372786</td>\n",
       "      <td>155.950275</td>\n",
       "      <td>1.0</td>\n",
       "      <td>40.0</td>\n",
       "      <td>138.0</td>\n",
       "      <td>269.0</td>\n",
       "      <td>646.0</td>\n",
       "    </tr>\n",
       "    <tr>\n",
       "      <th>1</th>\n",
       "      <td>309.0</td>\n",
       "      <td>182.588997</td>\n",
       "      <td>163.766590</td>\n",
       "      <td>1.0</td>\n",
       "      <td>38.0</td>\n",
       "      <td>127.0</td>\n",
       "      <td>304.0</td>\n",
       "      <td>597.0</td>\n",
       "    </tr>\n",
       "  </tbody>\n",
       "</table>\n",
       "</div>"
      ],
      "text/plain": [
       "           count        mean         std  min   25%    50%    75%    max\n",
       "holiday                                                                 \n",
       "0        10274.0  175.372786  155.950275  1.0  40.0  138.0  269.0  646.0\n",
       "1          309.0  182.588997  163.766590  1.0  38.0  127.0  304.0  597.0"
      ]
     },
     "execution_count": 63,
     "metadata": {},
     "output_type": "execute_result"
    }
   ],
   "source": [
    "# HOLIDAY\n",
    "data = dfn[['holiday', 'count']]\n",
    "data.groupby('holiday')['count'].describe()"
   ]
  },
  {
   "cell_type": "code",
   "execution_count": 65,
   "id": "3821ee0d",
   "metadata": {},
   "outputs": [
    {
     "data": {
      "text/html": [
       "<div>\n",
       "<style scoped>\n",
       "    .dataframe tbody tr th:only-of-type {\n",
       "        vertical-align: middle;\n",
       "    }\n",
       "\n",
       "    .dataframe tbody tr th {\n",
       "        vertical-align: top;\n",
       "    }\n",
       "\n",
       "    .dataframe thead th {\n",
       "        text-align: right;\n",
       "    }\n",
       "</style>\n",
       "<table border=\"1\" class=\"dataframe\">\n",
       "  <thead>\n",
       "    <tr style=\"text-align: right;\">\n",
       "      <th></th>\n",
       "      <th>count</th>\n",
       "      <th>mean</th>\n",
       "      <th>std</th>\n",
       "      <th>min</th>\n",
       "      <th>25%</th>\n",
       "      <th>50%</th>\n",
       "      <th>75%</th>\n",
       "      <th>max</th>\n",
       "    </tr>\n",
       "    <tr>\n",
       "      <th>season</th>\n",
       "      <th></th>\n",
       "      <th></th>\n",
       "      <th></th>\n",
       "      <th></th>\n",
       "      <th></th>\n",
       "      <th></th>\n",
       "      <th></th>\n",
       "      <th></th>\n",
       "    </tr>\n",
       "  </thead>\n",
       "  <tbody>\n",
       "    <tr>\n",
       "      <th>1</th>\n",
       "      <td>2670.0</td>\n",
       "      <td>112.795131</td>\n",
       "      <td>116.884929</td>\n",
       "      <td>1.0</td>\n",
       "      <td>24.00</td>\n",
       "      <td>78.0</td>\n",
       "      <td>161.00</td>\n",
       "      <td>644.0</td>\n",
       "    </tr>\n",
       "    <tr>\n",
       "      <th>2</th>\n",
       "      <td>2633.0</td>\n",
       "      <td>195.653627</td>\n",
       "      <td>166.170802</td>\n",
       "      <td>1.0</td>\n",
       "      <td>45.00</td>\n",
       "      <td>165.0</td>\n",
       "      <td>299.00</td>\n",
       "      <td>646.0</td>\n",
       "    </tr>\n",
       "    <tr>\n",
       "      <th>3</th>\n",
       "      <td>2616.0</td>\n",
       "      <td>210.484327</td>\n",
       "      <td>164.055532</td>\n",
       "      <td>1.0</td>\n",
       "      <td>59.75</td>\n",
       "      <td>185.0</td>\n",
       "      <td>323.25</td>\n",
       "      <td>646.0</td>\n",
       "    </tr>\n",
       "    <tr>\n",
       "      <th>4</th>\n",
       "      <td>2664.0</td>\n",
       "      <td>184.404655</td>\n",
       "      <td>154.563069</td>\n",
       "      <td>1.0</td>\n",
       "      <td>48.75</td>\n",
       "      <td>154.0</td>\n",
       "      <td>276.25</td>\n",
       "      <td>646.0</td>\n",
       "    </tr>\n",
       "  </tbody>\n",
       "</table>\n",
       "</div>"
      ],
      "text/plain": [
       "         count        mean         std  min    25%    50%     75%    max\n",
       "season                                                                  \n",
       "1       2670.0  112.795131  116.884929  1.0  24.00   78.0  161.00  644.0\n",
       "2       2633.0  195.653627  166.170802  1.0  45.00  165.0  299.00  646.0\n",
       "3       2616.0  210.484327  164.055532  1.0  59.75  185.0  323.25  646.0\n",
       "4       2664.0  184.404655  154.563069  1.0  48.75  154.0  276.25  646.0"
      ]
     },
     "execution_count": 65,
     "metadata": {},
     "output_type": "execute_result"
    }
   ],
   "source": [
    "# SEASON\n",
    "dfn.groupby('season')['count'].describe()"
   ]
  },
  {
   "cell_type": "code",
   "execution_count": 67,
   "id": "0fc738cb",
   "metadata": {},
   "outputs": [
    {
     "data": {
      "text/html": [
       "<div>\n",
       "<style scoped>\n",
       "    .dataframe tbody tr th:only-of-type {\n",
       "        vertical-align: middle;\n",
       "    }\n",
       "\n",
       "    .dataframe tbody tr th {\n",
       "        vertical-align: top;\n",
       "    }\n",
       "\n",
       "    .dataframe thead th {\n",
       "        text-align: right;\n",
       "    }\n",
       "</style>\n",
       "<table border=\"1\" class=\"dataframe\">\n",
       "  <thead>\n",
       "    <tr style=\"text-align: right;\">\n",
       "      <th></th>\n",
       "      <th>count</th>\n",
       "      <th>mean</th>\n",
       "      <th>std</th>\n",
       "      <th>min</th>\n",
       "      <th>25%</th>\n",
       "      <th>50%</th>\n",
       "      <th>75%</th>\n",
       "      <th>max</th>\n",
       "    </tr>\n",
       "    <tr>\n",
       "      <th>weather</th>\n",
       "      <th></th>\n",
       "      <th></th>\n",
       "      <th></th>\n",
       "      <th></th>\n",
       "      <th></th>\n",
       "      <th></th>\n",
       "      <th></th>\n",
       "      <th></th>\n",
       "    </tr>\n",
       "  </thead>\n",
       "  <tbody>\n",
       "    <tr>\n",
       "      <th>1</th>\n",
       "      <td>6962.0</td>\n",
       "      <td>187.131140</td>\n",
       "      <td>161.333785</td>\n",
       "      <td>1.0</td>\n",
       "      <td>45.0</td>\n",
       "      <td>153.0</td>\n",
       "      <td>286.0</td>\n",
       "      <td>646.0</td>\n",
       "    </tr>\n",
       "    <tr>\n",
       "      <th>2</th>\n",
       "      <td>2770.0</td>\n",
       "      <td>166.117690</td>\n",
       "      <td>146.992422</td>\n",
       "      <td>1.0</td>\n",
       "      <td>39.0</td>\n",
       "      <td>130.0</td>\n",
       "      <td>254.0</td>\n",
       "      <td>646.0</td>\n",
       "    </tr>\n",
       "    <tr>\n",
       "      <th>3</th>\n",
       "      <td>850.0</td>\n",
       "      <td>111.862353</td>\n",
       "      <td>121.233389</td>\n",
       "      <td>1.0</td>\n",
       "      <td>23.0</td>\n",
       "      <td>70.5</td>\n",
       "      <td>157.0</td>\n",
       "      <td>646.0</td>\n",
       "    </tr>\n",
       "    <tr>\n",
       "      <th>4</th>\n",
       "      <td>1.0</td>\n",
       "      <td>164.000000</td>\n",
       "      <td>NaN</td>\n",
       "      <td>164.0</td>\n",
       "      <td>164.0</td>\n",
       "      <td>164.0</td>\n",
       "      <td>164.0</td>\n",
       "      <td>164.0</td>\n",
       "    </tr>\n",
       "  </tbody>\n",
       "</table>\n",
       "</div>"
      ],
      "text/plain": [
       "          count        mean         std    min    25%    50%    75%    max\n",
       "weather                                                                   \n",
       "1        6962.0  187.131140  161.333785    1.0   45.0  153.0  286.0  646.0\n",
       "2        2770.0  166.117690  146.992422    1.0   39.0  130.0  254.0  646.0\n",
       "3         850.0  111.862353  121.233389    1.0   23.0   70.5  157.0  646.0\n",
       "4           1.0  164.000000         NaN  164.0  164.0  164.0  164.0  164.0"
      ]
     },
     "execution_count": 67,
     "metadata": {},
     "output_type": "execute_result"
    }
   ],
   "source": [
    "# WEATHER\n",
    "dfn.groupby('weather')['count'].describe()"
   ]
  },
  {
   "cell_type": "markdown",
   "id": "7f205ecd",
   "metadata": {},
   "source": [
    "# Q-1: Is there a significant difference between the demand of bikes on weekday and weekend?"
   ]
  },
  {
   "cell_type": "markdown",
   "id": "884040d1",
   "metadata": {},
   "source": [
    "#### **Step 1:** Defining the null and alternate hypothesis\n",
    "\n",
    "$H_0:$ The demand of bikes on weekdays is similar to the demand of bikes on weekend.\n",
    "\n",
    "$H_a:$ The demand of bikes on weekdays is less than the demand of bikes on weekend.\n",
    "\n",
    "Let $\\mu_1$ and $\\mu_2$ be the average no. of bikes rented on weekdays and weekends respectively.\n",
    "\n",
    "Mathematically, the above formulated hypothesis can be written as:\n",
    "\n",
    "$H_0: \\mu_1 = \\mu_2$\n",
    "\n",
    "$H_a: \\mu_1 < \\mu_2$\n",
    "\n",
    "\n",
    "**NOTE:**\n",
    "* A t-test looks at two sets of data that are different from each other, with no standard deviation or variance.\n",
    "\n",
    "* A z-test views the averages of data sets that are different from each other but have the standard deviation or variance given.\n",
    "\n",
    "* The t test as compared with z test has its advantage for small sample comparison. As n increases, t approaches to z. The advantage of t test disappears, and t distribution simply becomes z distribution. \n",
    "\n",
    "* In other words, with large n, t test is just close to z test and one doen't lose anything to continue to use t test. \n",
    "\n",
    "* In the past, for convenience, we use z table when n > 30.  We don't have to do it anymore. \n",
    "\n",
    "* In fact, all statistical packages use t test even n is large. This is easy, convenience with computer programming, and is correct. All statistical packages are good references."
   ]
  },
  {
   "cell_type": "markdown",
   "id": "da808bf0",
   "metadata": {},
   "source": [
    "### Step 2: Choosing an appropriate test\n",
    "**Note** that syandard deviation of the population is not known"
   ]
  },
  {
   "cell_type": "code",
   "execution_count": 70,
   "id": "c94b4a89",
   "metadata": {},
   "outputs": [],
   "source": [
    "weekday = dfn[dfn['workingday']==1]['count'].sample(3000)\n",
    "weekend = dfn[dfn['workingday']==0]['count'].sample(3000)"
   ]
  },
  {
   "cell_type": "markdown",
   "id": "a08e0df9",
   "metadata": {},
   "source": [
    "## Taking same no. of samples as we know that unequal sample sizes and variances dramatically affect the statistical power of a test"
   ]
  },
  {
   "cell_type": "code",
   "execution_count": 72,
   "id": "064cb411",
   "metadata": {},
   "outputs": [
    {
     "name": "stdout",
     "output_type": "stream",
     "text": [
      "Weekday sample std dev:  151.64\n",
      "Weekend sample std dev:  164.25\n"
     ]
    }
   ],
   "source": [
    "print('Weekday sample std dev: ', round(weekday.std(), 2))\n",
    "print('Weekend sample std dev: ', round(weekend.std(), 2))"
   ]
  },
  {
   "cell_type": "markdown",
   "id": "4dc062b6",
   "metadata": {},
   "source": [
    "As the sample standard deviations are different, the population standard deviations can be assumed to be different.\n",
    "\n",
    "This is a one-tailed test concerning two population means from two independent populations. As the population standard deviations are unknown, the two sample independent t-test will be the appropriate test for this problem.\n",
    "\n",
    "#### **Step 3:** Deciding the significance level\n",
    "\n",
    "Assuming the significance level of 5% (α = 0.05)."
   ]
  },
  {
   "cell_type": "code",
   "execution_count": 73,
   "id": "4ea9cfa6",
   "metadata": {},
   "outputs": [],
   "source": [
    "alpha = 0.05"
   ]
  },
  {
   "cell_type": "markdown",
   "id": "a6bffa52",
   "metadata": {},
   "source": [
    "### Finding out the P_value"
   ]
  },
  {
   "cell_type": "code",
   "execution_count": 81,
   "id": "bf69ec78",
   "metadata": {},
   "outputs": [
    {
     "name": "stdout",
     "output_type": "stream",
     "text": [
      "p_value: 0.011203100994408287 < alpha: 0.05, we reject H0\n"
     ]
    }
   ],
   "source": [
    "t_stat, p_value = ttest_ind(weekday, weekend, alternative = 'less')\n",
    "if p_value < alpha:\n",
    "    print(f\"p_value: {p_value} < alpha: {alpha}, we reject H0\")\n",
    "else:\n",
    "    print(f\"p_value: {p_value} > alpha: {alpha}, we stick with the H0\")"
   ]
  },
  {
   "cell_type": "markdown",
   "id": "4031fed3",
   "metadata": {},
   "source": [
    "### **Observation:** \n",
    "#### Since the p-value is less than the 5% significance level, we reject the null hypothesis. Hence, we have enough statistical evidence to say that the average no. of bike rides during weekdays is less than those on weekends."
   ]
  },
  {
   "cell_type": "markdown",
   "id": "8421e833",
   "metadata": {},
   "source": [
    "# Q-2: Is there a significant difference between the demand of bikes on holidays and regular-days?"
   ]
  },
  {
   "cell_type": "markdown",
   "id": "11dc5cba",
   "metadata": {},
   "source": [
    "#### **Step 1:** Defining the null and alternate hypothesis\n",
    "\n",
    "$H_0:$ The demand of bikes on holidays is similar to the demand of bikes on regular-days.\n",
    "\n",
    "$H_a:$ The demand of bikes on holidays is greater than the demand of bikes on regular-days.\n",
    "\n",
    "Let $\\mu_1$ and $\\mu_2$ be the average no. of bikes rented on both the occasions respectively.\n",
    "\n",
    "Mathematically, the above formulated hypothesis can be written as:\n",
    "\n",
    "$H_0: \\mu_1 = \\mu_2$\n",
    "\n",
    "$H_a: \\mu_1 > \\mu_2$"
   ]
  },
  {
   "cell_type": "code",
   "execution_count": 82,
   "id": "3b4f509e",
   "metadata": {},
   "outputs": [],
   "source": [
    "holiday = dfn[dfn['holiday']==1]['count'].sample(301)\n",
    "regular_day = dfn[dfn['holiday']==0]['count'].sample(301)"
   ]
  },
  {
   "cell_type": "code",
   "execution_count": 83,
   "id": "ccc37ce2",
   "metadata": {},
   "outputs": [
    {
     "name": "stdout",
     "output_type": "stream",
     "text": [
      "holiday sample std dev:  163.77\n",
      "regular_day sample std dev:  155.45\n"
     ]
    }
   ],
   "source": [
    "print('holiday sample std dev: ', round(holiday.std(), 2))\n",
    "print('regular_day sample std dev: ', round(regular_day.std(), 2))"
   ]
  },
  {
   "cell_type": "code",
   "execution_count": 84,
   "id": "cc950a33",
   "metadata": {},
   "outputs": [
    {
     "name": "stdout",
     "output_type": "stream",
     "text": [
      "p_value: 0.28340464507747964 > alpha: 0.05, we stick with the H0\n"
     ]
    }
   ],
   "source": [
    "t_stat, p_value = ttest_ind(holiday, regular_day, alternative = 'greater')\n",
    "if p_value < alpha:\n",
    "    print(f\"p_value: {p_value} < alpha: {alpha}, we reject H0\")\n",
    "else:\n",
    "    print(f\"p_value: {p_value} > alpha: {alpha}, we stick with the H0\")"
   ]
  },
  {
   "cell_type": "markdown",
   "id": "c7c3a7ae",
   "metadata": {},
   "source": [
    "### **Observation:**\n",
    "#### Since the p-value is greater than the 5% significance level, we fail to reject the null hypothesis. Hence, we have enough statistical evidence to say that the average no. of bike rides during regular days is equal to those on holidays."
   ]
  },
  {
   "cell_type": "markdown",
   "id": "1467eac2",
   "metadata": {},
   "source": [
    "# Ques. 3 - Is the demand of bicycles on rent same for different weather conditions?\n"
   ]
  },
  {
   "cell_type": "markdown",
   "id": "dec44b83",
   "metadata": {},
   "source": [
    "#### ** Define the null and alternate hypothesis\n",
    "\n",
    "$H_0:$ The average no. of bike rides in different weather conditions  are equal.\n",
    "\n",
    "$H_a:$ The average no. of bike rides in different weather conditions are not equal.\n",
    "\n",
    "Let $\\mu_1$ and $\\mu_2$ be the average no. of bikes rented on weekdays and weekends respectively."
   ]
  },
  {
   "cell_type": "code",
   "execution_count": 85,
   "id": "0b6cb222",
   "metadata": {},
   "outputs": [],
   "source": [
    "# droping the weather= 4, as there is only 1 value in the dataset\n",
    "dfn = dfn[~(dfn['weather']==4)]"
   ]
  },
  {
   "cell_type": "code",
   "execution_count": 86,
   "id": "28e5a064",
   "metadata": {},
   "outputs": [
    {
     "data": {
      "text/html": [
       "<div>\n",
       "<style scoped>\n",
       "    .dataframe tbody tr th:only-of-type {\n",
       "        vertical-align: middle;\n",
       "    }\n",
       "\n",
       "    .dataframe tbody tr th {\n",
       "        vertical-align: top;\n",
       "    }\n",
       "\n",
       "    .dataframe thead th {\n",
       "        text-align: right;\n",
       "    }\n",
       "</style>\n",
       "<table border=\"1\" class=\"dataframe\">\n",
       "  <thead>\n",
       "    <tr style=\"text-align: right;\">\n",
       "      <th></th>\n",
       "      <th>count</th>\n",
       "      <th>mean</th>\n",
       "      <th>std</th>\n",
       "      <th>min</th>\n",
       "      <th>25%</th>\n",
       "      <th>50%</th>\n",
       "      <th>75%</th>\n",
       "      <th>max</th>\n",
       "    </tr>\n",
       "    <tr>\n",
       "      <th>weather</th>\n",
       "      <th></th>\n",
       "      <th></th>\n",
       "      <th></th>\n",
       "      <th></th>\n",
       "      <th></th>\n",
       "      <th></th>\n",
       "      <th></th>\n",
       "      <th></th>\n",
       "    </tr>\n",
       "  </thead>\n",
       "  <tbody>\n",
       "    <tr>\n",
       "      <th>1</th>\n",
       "      <td>6962.0</td>\n",
       "      <td>187.131140</td>\n",
       "      <td>161.333785</td>\n",
       "      <td>1.0</td>\n",
       "      <td>45.0</td>\n",
       "      <td>153.0</td>\n",
       "      <td>286.0</td>\n",
       "      <td>646.0</td>\n",
       "    </tr>\n",
       "    <tr>\n",
       "      <th>2</th>\n",
       "      <td>2770.0</td>\n",
       "      <td>166.117690</td>\n",
       "      <td>146.992422</td>\n",
       "      <td>1.0</td>\n",
       "      <td>39.0</td>\n",
       "      <td>130.0</td>\n",
       "      <td>254.0</td>\n",
       "      <td>646.0</td>\n",
       "    </tr>\n",
       "    <tr>\n",
       "      <th>3</th>\n",
       "      <td>850.0</td>\n",
       "      <td>111.862353</td>\n",
       "      <td>121.233389</td>\n",
       "      <td>1.0</td>\n",
       "      <td>23.0</td>\n",
       "      <td>70.5</td>\n",
       "      <td>157.0</td>\n",
       "      <td>646.0</td>\n",
       "    </tr>\n",
       "  </tbody>\n",
       "</table>\n",
       "</div>"
      ],
      "text/plain": [
       "          count        mean         std  min   25%    50%    75%    max\n",
       "weather                                                                \n",
       "1        6962.0  187.131140  161.333785  1.0  45.0  153.0  286.0  646.0\n",
       "2        2770.0  166.117690  146.992422  1.0  39.0  130.0  254.0  646.0\n",
       "3         850.0  111.862353  121.233389  1.0  23.0   70.5  157.0  646.0"
      ]
     },
     "execution_count": 86,
     "metadata": {},
     "output_type": "execute_result"
    }
   ],
   "source": [
    "# WEATHER\n",
    "dfn.groupby('weather')['count'].describe()"
   ]
  },
  {
   "cell_type": "code",
   "execution_count": 87,
   "id": "2ddf8057",
   "metadata": {},
   "outputs": [],
   "source": [
    "w1 = dfn[dfn['weather']==1]['count'].sample(799)\n",
    "w2 = dfn[dfn['weather']==2]['count'].sample(799)\n",
    "w3 = dfn[dfn['weather']==3]['count'].sample(799)"
   ]
  },
  {
   "cell_type": "markdown",
   "id": "0ec58646",
   "metadata": {},
   "source": [
    "This is a problem, concerning three independent population means. **One-way ANOVA** could be the appropriate test here provided normality and equality of variance assumptions are verified.\n",
    "\n",
    "The ANOVA test has important assumptions that must be satisfied in order for the associated p-value to be valid.\n",
    "\n",
    "* The samples are independent.\n",
    "* Each sample is from a normally distributed population.\n",
    "* The population variance of the groups are all equal. \n",
    "\n",
    "Now, we will be using the following statistical tests to check the normality and eqality of variance of the data set -\n",
    "\n",
    "* For testing of normality, Shapiro-Wilk’s test is applied to the response variable.\n",
    "\n",
    "* For equality of variance, Levene test is applied to the response variable."
   ]
  },
  {
   "cell_type": "code",
   "execution_count": 97,
   "id": "35fab3ec",
   "metadata": {},
   "outputs": [],
   "source": [
    "# Defining a function for comparing p_value with alpha, to use it further ahead\n",
    "def p_value_check(p_value, alpha):\n",
    "    if p_value < alpha:\n",
    "        print(f\"p_value: {p_value} < alpha: {alpha}, we reject null hypothesis\")\n",
    "    else:\n",
    "        print(f\"p_value: {p_value} > alpha: {alpha}, we stick with the null hypothesis\")"
   ]
  },
  {
   "cell_type": "code",
   "execution_count": 98,
   "id": "cf453b8c",
   "metadata": {},
   "outputs": [
    {
     "name": "stdout",
     "output_type": "stream",
     "text": [
      "p_value: 0.0 < alpha: 0.05, we reject null hypothesis\n"
     ]
    }
   ],
   "source": [
    "# Assumption 1: Normality - Shapiro Test\n",
    "\n",
    "# H0 : Count follows normal distribution\n",
    "# Ha : It does not\n",
    "\n",
    "w_stat, p_value = shapiro(dfn['count'].sample(5000))\n",
    "p_value_check(p_value, alpha)"
   ]
  },
  {
   "cell_type": "markdown",
   "id": "208f74d9",
   "metadata": {},
   "source": [
    "## The count is not normally distributed which means that it fails the assumptions of ANOVA for normality"
   ]
  },
  {
   "cell_type": "code",
   "execution_count": 102,
   "id": "377aedaf",
   "metadata": {},
   "outputs": [
    {
     "name": "stdout",
     "output_type": "stream",
     "text": [
      "p_value: 1.1306051417519638e-18 < alpha: 0.05, we reject null hypothesis\n"
     ]
    }
   ],
   "source": [
    "# Assumotion 2: Homogeneity of Variance - Levene Test\n",
    "\n",
    "# H0: Variences of count for all 3 weathers are same\n",
    "# Ha: They are not same\n",
    "\n",
    "stat, p_value= levene(w1, w2, w3)\n",
    "p_value_check(p_value, alpha)"
   ]
  },
  {
   "cell_type": "code",
   "execution_count": 129,
   "id": "f925ab9f",
   "metadata": {},
   "outputs": [
    {
     "name": "stdout",
     "output_type": "stream",
     "text": [
      "24147.964906007182 20205.501836568896 14880.631412699488\n"
     ]
    }
   ],
   "source": [
    "print(w1.var(), w2.var(), w3.var())"
   ]
  },
  {
   "cell_type": "markdown",
   "id": "0641b149",
   "metadata": {},
   "source": [
    "## Even the variences are not same. It may be suitable to use Kruskal test"
   ]
  },
  {
   "cell_type": "markdown",
   "id": "9947ccbf",
   "metadata": {},
   "source": [
    "### Central Limit Theorem -\n",
    "\n",
    "* According to this theorem, the distribution of sample means approximates a normal distribution as the sample size gets larger, regardless of the population's distribution. \n",
    "\n",
    "* In other words, if we find the mean of a large number of independent random variables, the mean\n",
    "will follow a normal distribution, irrespective of the distribution of the original variables.\n",
    "\n",
    "* In practice, sample sizes equal to or greater than 30-40 are often considered sufficient for the CLT to hold.\n",
    "\n",
    "Hence, the sample size being large enough, we don't need to worry about the non-normality of distribution of the data set in hand before applying the tests.\n",
    "\n",
    "Eventually, as the sample size gets larger, the distribution of sample means will fall into a normal or near normal shape.\n",
    "\n",
    "### Hence we can use eaither of the 2 tests i.e. ANOVA or Kruskal-Wallis H-Test\n"
   ]
  },
  {
   "cell_type": "code",
   "execution_count": 133,
   "id": "ee0c8cc3",
   "metadata": {},
   "outputs": [
    {
     "name": "stdout",
     "output_type": "stream",
     "text": [
      "p_value: 8.951769692680233e-27 < alpha: 0.05, we reject null hypothesis\n"
     ]
    }
   ],
   "source": [
    "h_statistic, p_value = kruskal(w1, w2, w3)\n",
    "p_value_check(p_value, alpha)"
   ]
  },
  {
   "cell_type": "code",
   "execution_count": 132,
   "id": "2d836a43",
   "metadata": {},
   "outputs": [
    {
     "name": "stdout",
     "output_type": "stream",
     "text": [
      "p_value: 2.9096709656064937e-27 < alpha: 0.05, we reject null hypothesis\n"
     ]
    }
   ],
   "source": [
    "test_stat, p_value = f_oneway(w1, w2, w3)\n",
    "p_value_check(p_value, alpha)"
   ]
  },
  {
   "cell_type": "markdown",
   "id": "cdc7026f",
   "metadata": {},
   "source": [
    "**Observation:** Since the p-value is less than the 5% significance level, we reject the null hypothesis. Hence, we have enough statistical evidence to say that the average no. of bike rides in different weather conditions are not equal."
   ]
  },
  {
   "cell_type": "markdown",
   "id": "9614633f",
   "metadata": {},
   "source": [
    "# Ques. 4 - Is the demand of bicycles on rent same for different seasons?\n",
    "---"
   ]
  },
  {
   "cell_type": "markdown",
   "id": "64f7c89a",
   "metadata": {},
   "source": [
    "#### **Step 1:** Defining the null and alternate hypothesis\n",
    "\n",
    "$H_0:$ The average no. of bike rides in different seasons  are equal.\n",
    "\n",
    "$H_a:$ The average no. of bike rides in different seasons are not equal."
   ]
  },
  {
   "cell_type": "code",
   "execution_count": 134,
   "id": "b2e4c647",
   "metadata": {},
   "outputs": [],
   "source": [
    "s1 = dfn[dfn['season'] == 1]['count'].sample(2500)\n",
    "s2 = dfn[dfn['season'] == 2]['count'].sample(2500)\n",
    "s3 = dfn[dfn['season'] == 3]['count'].sample(2500)\n",
    "s4 = dfn[dfn['season'] == 3]['count'].sample(2500)"
   ]
  },
  {
   "cell_type": "code",
   "execution_count": 135,
   "id": "0f1e5646",
   "metadata": {},
   "outputs": [
    {
     "data": {
      "text/html": [
       "<div>\n",
       "<style scoped>\n",
       "    .dataframe tbody tr th:only-of-type {\n",
       "        vertical-align: middle;\n",
       "    }\n",
       "\n",
       "    .dataframe tbody tr th {\n",
       "        vertical-align: top;\n",
       "    }\n",
       "\n",
       "    .dataframe thead th {\n",
       "        text-align: right;\n",
       "    }\n",
       "</style>\n",
       "<table border=\"1\" class=\"dataframe\">\n",
       "  <thead>\n",
       "    <tr style=\"text-align: right;\">\n",
       "      <th></th>\n",
       "      <th>count</th>\n",
       "      <th>mean</th>\n",
       "      <th>std</th>\n",
       "      <th>min</th>\n",
       "      <th>25%</th>\n",
       "      <th>50%</th>\n",
       "      <th>75%</th>\n",
       "      <th>max</th>\n",
       "    </tr>\n",
       "    <tr>\n",
       "      <th>season</th>\n",
       "      <th></th>\n",
       "      <th></th>\n",
       "      <th></th>\n",
       "      <th></th>\n",
       "      <th></th>\n",
       "      <th></th>\n",
       "      <th></th>\n",
       "      <th></th>\n",
       "    </tr>\n",
       "  </thead>\n",
       "  <tbody>\n",
       "    <tr>\n",
       "      <th>1</th>\n",
       "      <td>2669.0</td>\n",
       "      <td>112.775946</td>\n",
       "      <td>116.902627</td>\n",
       "      <td>1.0</td>\n",
       "      <td>24.00</td>\n",
       "      <td>78.0</td>\n",
       "      <td>161.00</td>\n",
       "      <td>644.0</td>\n",
       "    </tr>\n",
       "    <tr>\n",
       "      <th>2</th>\n",
       "      <td>2633.0</td>\n",
       "      <td>195.653627</td>\n",
       "      <td>166.170802</td>\n",
       "      <td>1.0</td>\n",
       "      <td>45.00</td>\n",
       "      <td>165.0</td>\n",
       "      <td>299.00</td>\n",
       "      <td>646.0</td>\n",
       "    </tr>\n",
       "    <tr>\n",
       "      <th>3</th>\n",
       "      <td>2616.0</td>\n",
       "      <td>210.484327</td>\n",
       "      <td>164.055532</td>\n",
       "      <td>1.0</td>\n",
       "      <td>59.75</td>\n",
       "      <td>185.0</td>\n",
       "      <td>323.25</td>\n",
       "      <td>646.0</td>\n",
       "    </tr>\n",
       "    <tr>\n",
       "      <th>4</th>\n",
       "      <td>2664.0</td>\n",
       "      <td>184.404655</td>\n",
       "      <td>154.563069</td>\n",
       "      <td>1.0</td>\n",
       "      <td>48.75</td>\n",
       "      <td>154.0</td>\n",
       "      <td>276.25</td>\n",
       "      <td>646.0</td>\n",
       "    </tr>\n",
       "  </tbody>\n",
       "</table>\n",
       "</div>"
      ],
      "text/plain": [
       "         count        mean         std  min    25%    50%     75%    max\n",
       "season                                                                  \n",
       "1       2669.0  112.775946  116.902627  1.0  24.00   78.0  161.00  644.0\n",
       "2       2633.0  195.653627  166.170802  1.0  45.00  165.0  299.00  646.0\n",
       "3       2616.0  210.484327  164.055532  1.0  59.75  185.0  323.25  646.0\n",
       "4       2664.0  184.404655  154.563069  1.0  48.75  154.0  276.25  646.0"
      ]
     },
     "execution_count": 135,
     "metadata": {},
     "output_type": "execute_result"
    }
   ],
   "source": [
    "dfn.groupby(['season'])['count'].describe()"
   ]
  },
  {
   "cell_type": "markdown",
   "id": "711cb6e0",
   "metadata": {},
   "source": [
    "#### AS We have already performed tests for normality and homogeneity of variance. So we will be directly moving onto the One-way ANOVA test/Kruskal test"
   ]
  },
  {
   "cell_type": "code",
   "execution_count": 136,
   "id": "63eb1922",
   "metadata": {},
   "outputs": [
    {
     "name": "stdout",
     "output_type": "stream",
     "text": [
      "p_value: 1.30476108356306e-144 < alpha: 0.05, we reject null hypothesis\n"
     ]
    }
   ],
   "source": [
    "test_stat, p_value = f_oneway(s1, s2, s3, s4)\n",
    "p_value_check(p_value, alpha)"
   ]
  },
  {
   "cell_type": "code",
   "execution_count": 137,
   "id": "d028a7a0",
   "metadata": {},
   "outputs": [
    {
     "name": "stdout",
     "output_type": "stream",
     "text": [
      "p_value: 1.388446123241738e-143 < alpha: 0.05, we reject null hypothesis\n"
     ]
    }
   ],
   "source": [
    "h_statistic, p_value = kruskal(s1, s2, s3, s4)\n",
    "p_value_check(p_value, alpha)"
   ]
  },
  {
   "cell_type": "markdown",
   "id": "7eb69766",
   "metadata": {},
   "source": [
    "**Observation:** Since the p-value is less than the 5% significance level, we reject the null hypothesis. Hence, we have enough statistical evidence to say that the average no. of bike rides in different seasons are not equal."
   ]
  },
  {
   "cell_type": "markdown",
   "id": "890d9404",
   "metadata": {},
   "source": [
    "# Ques. 5 -  Are the weather conditions significantly different during different seasons? "
   ]
  },
  {
   "cell_type": "markdown",
   "id": "8941dee8",
   "metadata": {},
   "source": [
    "#### **Step 1:** Define the null and alternate hypothesis\n",
    "\n",
    "$H_0:$ Weather conditions are independent of the season.\n",
    "\n",
    "$H_a:$ Weather condition depends on the ongoing season"
   ]
  },
  {
   "cell_type": "markdown",
   "id": "527b8d4f",
   "metadata": {},
   "source": [
    "Although the data values in 'season' and 'weather' columns are numerical, they still represent different catgories. Hence, we will encode them accordingly before moving onto the tests."
   ]
  },
  {
   "cell_type": "code",
   "execution_count": 146,
   "id": "1e915d4c",
   "metadata": {},
   "outputs": [],
   "source": [
    "weather_category = {1: 'sunny-pleasant',\n",
    "                    2: 'cloudy-delightful',\n",
    "                    3: 'rainy-drenching'}\n",
    "dfn['weather_encoded'] = dfn['weather'].map(weather_category)"
   ]
  },
  {
   "cell_type": "code",
   "execution_count": 147,
   "id": "e87e9f58",
   "metadata": {},
   "outputs": [],
   "source": [
    "season_category = {1: 'spring',\n",
    "                   2: 'summer', \n",
    "                   3: 'fall', \n",
    "                   4: 'winter'}\n",
    "dfn['season_encoded'] = dfn['season'].map(season_category)"
   ]
  },
  {
   "cell_type": "code",
   "execution_count": 169,
   "id": "0e7464c5",
   "metadata": {},
   "outputs": [
    {
     "data": {
      "text/html": [
       "<div>\n",
       "<style scoped>\n",
       "    .dataframe tbody tr th:only-of-type {\n",
       "        vertical-align: middle;\n",
       "    }\n",
       "\n",
       "    .dataframe tbody tr th {\n",
       "        vertical-align: top;\n",
       "    }\n",
       "\n",
       "    .dataframe thead th {\n",
       "        text-align: right;\n",
       "    }\n",
       "</style>\n",
       "<table border=\"1\" class=\"dataframe\">\n",
       "  <thead>\n",
       "    <tr style=\"text-align: right;\">\n",
       "      <th>weather_encoded</th>\n",
       "      <th>cloudy-delightful</th>\n",
       "      <th>rainy-drenching</th>\n",
       "      <th>sunny-pleasant</th>\n",
       "    </tr>\n",
       "    <tr>\n",
       "      <th>season_encoded</th>\n",
       "      <th></th>\n",
       "      <th></th>\n",
       "      <th></th>\n",
       "    </tr>\n",
       "  </thead>\n",
       "  <tbody>\n",
       "    <tr>\n",
       "      <th>fall</th>\n",
       "      <td>604</td>\n",
       "      <td>199</td>\n",
       "      <td>1930</td>\n",
       "    </tr>\n",
       "    <tr>\n",
       "      <th>spring</th>\n",
       "      <td>715</td>\n",
       "      <td>211</td>\n",
       "      <td>1759</td>\n",
       "    </tr>\n",
       "    <tr>\n",
       "      <th>summer</th>\n",
       "      <td>708</td>\n",
       "      <td>224</td>\n",
       "      <td>1801</td>\n",
       "    </tr>\n",
       "    <tr>\n",
       "      <th>winter</th>\n",
       "      <td>807</td>\n",
       "      <td>225</td>\n",
       "      <td>1702</td>\n",
       "    </tr>\n",
       "  </tbody>\n",
       "</table>\n",
       "</div>"
      ],
      "text/plain": [
       "weather_encoded  cloudy-delightful  rainy-drenching  sunny-pleasant\n",
       "season_encoded                                                     \n",
       "fall                           604              199            1930\n",
       "spring                         715              211            1759\n",
       "summer                         708              224            1801\n",
       "winter                         807              225            1702"
      ]
     },
     "execution_count": 169,
     "metadata": {},
     "output_type": "execute_result"
    }
   ],
   "source": [
    "contingency_table = pd.crosstab(dfn.season_encoded, dfn.weather_encoded)\n",
    "contingency_table"
   ]
  },
  {
   "cell_type": "code",
   "execution_count": 161,
   "id": "bc360785",
   "metadata": {},
   "outputs": [
    {
     "data": {
      "text/plain": [
       "<matplotlib.legend.Legend at 0x1587a9fd820>"
      ]
     },
     "execution_count": 161,
     "metadata": {},
     "output_type": "execute_result"
    },
    {
     "data": {
      "image/png": "[encoded data removed]",
      "text/plain": [
       "<Figure size 640x480 with 1 Axes>"
      ]
     },
     "metadata": {},
     "output_type": "display_data"
    }
   ],
   "source": [
    "sns.countplot(x=dfn['season_encoded'], hue = dfn['weather_encoded'])\n",
    "\n",
    "plt.legend(title= 'weather_encoded', loc=(1.0,0.5))"
   ]
  },
  {
   "cell_type": "code",
   "execution_count": 173,
   "id": "88bce935",
   "metadata": {},
   "outputs": [
    {
     "name": "stdout",
     "output_type": "stream",
     "text": [
      "p_value: 2.826001450992924e-08 < alpha: 0.05, we reject null hypothesis\n"
     ]
    }
   ],
   "source": [
    "p_value = chi2_contingency(contingency_table)[1]\n",
    "\n",
    "p_value_check(p_value, alpha)"
   ]
  },
  {
   "cell_type": "markdown",
   "id": "da382e66",
   "metadata": {},
   "source": [
    "### **Observation:** \n",
    "Since the p-value is less than the 5% significance level, we reject the null hypothesis. Hence, we have enough statistical evidence to say that the weather conditions are dependent on the ongoing season."
   ]
  },
  {
   "cell_type": "markdown",
   "id": "eca062f1",
   "metadata": {},
   "source": [
    "# Insights and Recommendations"
   ]
  },
  {
   "cell_type": "markdown",
   "id": "f38b84ad",
   "metadata": {},
   "source": [
    "#### **EDA based insights -**\n",
    "\n",
    "1. Total 10,886 rows were present in the data set.\n",
    "2. Neither missing values, nor duplicate rows were found.\n",
    "3. 'temp' and 'atemp' columns were found to be highly correlated. </br> Dropping one of them (atemp) to avoid multicollinearity.\n",
    "4. 'count', 'casual' and 'registered' columns were highly correlated. </br> Dropping casual & registered columns to avoid multicollinearity.\n",
    "5. Outlier values were found in the 'count' column.\n",
    "\n",
    "#### **Insights from hypothesis testing -**\n",
    "1. The no. of bikes rented on weekdays is comparatively lower than on weekends.\n",
    "2. The no. of bikes rented on regular days is equal to those on holidays.\n",
    "2. The demand of bicycles on rent differs under different weather conditions.\n",
    "3. The demand of bicycles on rent is different during different seasons.\n",
    "4. The weather conditions are surely dependent upon the ongoing season. \n",
    "\n",
    "#### **Miscellaneous observations -**\n",
    "The distribution of 'count' column wasn't actually normal or near normal. </br> Infact the column's distribution is found to be a bit skewed towards right. \n",
    "\n",
    "#### **Generic recommendations -**\n",
    "\n",
    "* **Promotional Strategies:** To increase weekday bike rentals, consider implementing targeted marketing campaigns or promotional offers to attract more customers during weekdays.\n",
    "\n",
    "* **Holiday Specials:** Create special offers or events during holidays to encourage more bike rentals and attract holiday-goers.\n",
    "\n",
    "* **Weather-based Marketing:** Tailor marketing efforts and offers based on weather conditions. For example, promote bike rentals on sunny days and offer indoor activities or discounts on rainy days.\n",
    "\n",
    "* **Seasonal Rental Packages:** Offer seasonal rental packages or discounts to attract more customers during specific seasons when bike rentals are in higher demand.\n",
    "\n",
    "* **Weather Gear Rentals:** Consider offering weather gear rentals like umbrellas or raincoats during rainy seasons to cater to customers' needs and increase revenue.\n",
    "\n",
    "We recommend the company to maintain the bike stocks accordingly. \n",
    "\n"
   ]
  },
  {
   "cell_type": "code",
   "execution_count": null,
   "id": "a5982528",
   "metadata": {},
   "outputs": [],
   "source": []
  }
 ],
 "metadata": {
  "kernelspec": {
   "display_name": "Python 3 (ipykernel)",
   "language": "python",
   "name": "python3"
  },
  "language_info": {
   "codemirror_mode": {
    "name": "ipython",
    "version": 3
   },
   "file_extension": ".py",
   "mimetype": "text/x-python",
   "name": "python",
   "nbconvert_exporter": "python",
   "pygments_lexer": "ipython3",
   "version": "3.9.13"
  }
 },
 "nbformat": 4,
 "nbformat_minor": 5
}
